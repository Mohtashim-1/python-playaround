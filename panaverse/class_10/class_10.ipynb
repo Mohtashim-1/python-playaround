{
 "cells": [
  {
   "cell_type": "markdown",
   "metadata": {},
   "source": [
    "# Fuction\n",
    "* pre defined Function\n",
    "    * provided by any language\n",
    "* user defined function\n",
    "    * custom function\n",
    "  \n",
    "## Similar properties\n",
    "* Return and non return type\n",
    "    * Return\n",
    "        * We can assign this function in any variable\n",
    "    * Non-Return\n",
    "        *  only run we can't assign this function in any variable\n",
    "\n",
    "## Componenets\n",
    "* function declaration/signature\n",
    "    * function name\n",
    "    * Parameters\n",
    "        * param : type\n",
    "    * return output type\n",
    "* function body\n",
    "        * any business logic write here\n",
    "* function calling\n",
    "        * function(arg1, arg2)\n",
    "\n",
    "\n",
    "\n",
    "### Syntax function\n",
    "\n",
    "```\n",
    "def function_name(param1:type,param2:type,...)->Return_types:\n",
    "    function body\n",
    "\n",
    "function_name(arg1, arg2) \n",
    "```\n",
    "\n",
    "### Syntax Lambda Function\n",
    "* one line function\n",
    "* without name function\n",
    "* only use in this function\n",
    "\n",
    "```\n",
    "lambda param1, param2 : function body \n",
    "```\n"
   ]
  },
  {
   "cell_type": "markdown",
   "metadata": {},
   "source": [
    "# Pre-defined function\n",
    "* print\n",
    "* len\n",
    "* id\n",
    "* dir\n",
    "* chr\n",
    "* ord\n",
    "* execu"
   ]
  },
  {
   "cell_type": "markdown",
   "metadata": {},
   "source": [
    "## Return and non return function\n"
   ]
  },
  {
   "cell_type": "code",
   "execution_count": 1,
   "metadata": {},
   "outputs": [
    {
     "name": "stdout",
     "output_type": "stream",
     "text": [
      "Pakistan\n"
     ]
    },
    {
     "data": {
      "text/plain": [
       "None"
      ]
     },
     "metadata": {},
     "output_type": "display_data"
    }
   ],
   "source": [
    "a : str = print('Pakistan')\n",
    "display(a)"
   ]
  },
  {
   "cell_type": "code",
   "execution_count": 2,
   "metadata": {},
   "outputs": [
    {
     "data": {
      "text/plain": [
       "8"
      ]
     },
     "metadata": {},
     "output_type": "display_data"
    }
   ],
   "source": [
    "a : int = len(\"Pakistan\")\n",
    "display(a)"
   ]
  },
  {
   "cell_type": "markdown",
   "metadata": {},
   "source": [
    "#### Create a simple function without an argument "
   ]
  },
  {
   "cell_type": "code",
   "execution_count": 6,
   "metadata": {},
   "outputs": [
    {
     "name": "stdout",
     "output_type": "stream",
     "text": [
      "PIAIC Generative AI\n",
      "Python Crash Coarse\n"
     ]
    }
   ],
   "source": [
    "def piaic()->None: # declaration\n",
    "    # body start\n",
    "    print('PIAIC Generative AI') #statement 1\n",
    "    print(\"Python Crash Coarse\") #statement 1\n",
    "    # body end\n",
    "piaic()"
   ]
  },
  {
   "cell_type": "markdown",
   "metadata": {},
   "source": [
    "#### Function with optional parameter"
   ]
  },
  {
   "cell_type": "code",
   "execution_count": 8,
   "metadata": {},
   "outputs": [
    {
     "name": "stdout",
     "output_type": "stream",
     "text": [
      "7 0\n"
     ]
    },
    {
     "data": {
      "text/plain": [
       "7"
      ]
     },
     "execution_count": 8,
     "metadata": {},
     "output_type": "execute_result"
    }
   ],
   "source": [
    "def add_two_number(num1: int, num2: int = 0) -> int:\n",
    "    print(num1, num2)\n",
    "    return num1 + num2\n",
    "\n",
    "add_two_number(7)"
   ]
  },
  {
   "cell_type": "code",
   "execution_count": 9,
   "metadata": {},
   "outputs": [
    {
     "data": {
      "text/plain": [
       "15"
      ]
     },
     "execution_count": 9,
     "metadata": {},
     "output_type": "execute_result"
    }
   ],
   "source": [
    "a = lambda num1, num2 : num1 + num2\n",
    "a(7,8)"
   ]
  },
  {
   "cell_type": "code",
   "execution_count": 14,
   "metadata": {},
   "outputs": [
    {
     "data": {
      "text/plain": [
       "[2, 4, 6, 8]"
      ]
     },
     "execution_count": 14,
     "metadata": {},
     "output_type": "execute_result"
    }
   ],
   "source": [
    "data : list[int] = [1,2,3,4,5,6,7,8,9]\n",
    "# data = map( lambda x:x**2, data)\n",
    "data = filter(lambda x:x%2==0, data) #generative function\n",
    "data = list(filter(lambda x:x%2==0, data))\n",
    "data"
   ]
  },
  {
   "cell_type": "markdown",
   "metadata": {},
   "source": [
    "## Generative Function\n",
    "* iterate on element one by one\n",
    "* stop after each iteration\n",
    "* remember old iteration value\n",
    "* next iterate\n",
    "   * go forward from last iterate value\n"
   ]
  },
  {
   "cell_type": "code",
   "execution_count": 39,
   "metadata": {},
   "outputs": [],
   "source": [
    "## Generative Function\n",
    "\n",
    "def my_range(start:int, end:int, step: int=1):\n",
    "    for i in range(start,end+1,step):\n",
    "        yield i # Generative function\n",
    "        \n",
    "a = my_range(1,20)\n",
    "# print(a)\n",
    "# print(list(a))"
   ]
  },
  {
   "cell_type": "code",
   "execution_count": 42,
   "metadata": {},
   "outputs": [
    {
     "name": "stdout",
     "output_type": "stream",
     "text": [
      "4\n",
      "5\n",
      "6\n"
     ]
    }
   ],
   "source": [
    "print(next(a))\n",
    "print(next(a))\n",
    "print(next(a))"
   ]
  },
  {
   "cell_type": "code",
   "execution_count": 44,
   "metadata": {},
   "outputs": [
    {
     "name": "stdout",
     "output_type": "stream",
     "text": [
      "1\n",
      "2\n",
      "<class 'generator'>\n"
     ]
    }
   ],
   "source": [
    "from collections.abc import Iterator\n",
    "def my_range(start:int, end:int, step:int=1):\n",
    "    for i in range(start,end+1,step):\n",
    "        yield i\n",
    "\n",
    "a : Iterator[int] = my_range(1,10)\n",
    "\n",
    "print(next(a))\n",
    "print(next(a))\n",
    "print(type(a))\n",
    "        "
   ]
  },
  {
   "cell_type": "code",
   "execution_count": 45,
   "metadata": {},
   "outputs": [
    {
     "data": {
      "text/plain": [
       "['__class__',\n",
       " '__del__',\n",
       " '__delattr__',\n",
       " '__dir__',\n",
       " '__doc__',\n",
       " '__eq__',\n",
       " '__format__',\n",
       " '__ge__',\n",
       " '__getattribute__',\n",
       " '__getstate__',\n",
       " '__gt__',\n",
       " '__hash__',\n",
       " '__init__',\n",
       " '__init_subclass__',\n",
       " '__iter__',\n",
       " '__le__',\n",
       " '__lt__',\n",
       " '__name__',\n",
       " '__ne__',\n",
       " '__new__',\n",
       " '__next__',\n",
       " '__qualname__',\n",
       " '__reduce__',\n",
       " '__reduce_ex__',\n",
       " '__repr__',\n",
       " '__setattr__',\n",
       " '__sizeof__',\n",
       " '__str__',\n",
       " '__subclasshook__',\n",
       " 'close',\n",
       " 'gi_code',\n",
       " 'gi_frame',\n",
       " 'gi_running',\n",
       " 'gi_suspended',\n",
       " 'gi_yieldfrom',\n",
       " 'send',\n",
       " 'throw']"
      ]
     },
     "execution_count": 45,
     "metadata": {},
     "output_type": "execute_result"
    }
   ],
   "source": [
    "dir(a)"
   ]
  },
  {
   "cell_type": "markdown",
   "metadata": {},
   "source": [
    "## Pass unlimited arguments"
   ]
  },
  {
   "cell_type": "code",
   "execution_count": 3,
   "metadata": {},
   "outputs": [
    {
     "name": "stdout",
     "output_type": "stream",
     "text": [
      "(1, 2, 3) <class 'tuple'>\n"
     ]
    },
    {
     "data": {
      "text/plain": [
       "6"
      ]
     },
     "execution_count": 3,
     "metadata": {},
     "output_type": "execute_result"
    }
   ],
   "source": [
    "def abc(*nums):\n",
    "    print(nums, type(nums))\n",
    "    total = 0\n",
    "    for n in nums:\n",
    "        total += n\n",
    "    return total\n",
    "    \n",
    "abc(1,2,3)"
   ]
  },
  {
   "cell_type": "code",
   "execution_count": 7,
   "metadata": {},
   "outputs": [
    {
     "name": "stdout",
     "output_type": "stream",
     "text": [
      "{'a': 7, 'b': 10, 'c': 30, 'x': 90, 'name': 'Mohtashim'} <class 'dict'>\n"
     ]
    }
   ],
   "source": [
    "def xyz(**kargs):\n",
    "    print(kargs, type(kargs))\n",
    "\n",
    "xyz(a=7, b=10, c=30, x=90, name=\"Mohtashim\")"
   ]
  },
  {
   "cell_type": "code",
   "execution_count": 11,
   "metadata": {},
   "outputs": [
    {
     "name": "stdout",
     "output_type": "stream",
     "text": [
      "1 2 (7, 9) {'c': 10, 'e': 90, 'x': 100, 'name': 'Mohtashim'}\n"
     ]
    }
   ],
   "source": [
    "def my_function(a,b, *abc, **xyz):\n",
    "    print(a,b, abc, xyz)\n",
    "\n",
    "my_function(1,2,7,9, c=10, e=90, x=100, name=\"Mohtashim\")"
   ]
  },
  {
   "cell_type": "markdown",
   "metadata": {},
   "source": [
    "## Recursive Function\n"
   ]
  },
  {
   "cell_type": "code",
   "execution_count": null,
   "metadata": {},
   "outputs": [],
   "source": [
    "def factorial(x:int) -> int:\n",
    "    \"\"\"Calculate the factorial of a given integer.\"\"\"\n",
    "    if x == 1:\n",
    "        return 1\n",
    "    else:\n",
    "        return (x * factorial(x-1))\n",
    "num = 5\n",
    "print(\"The Factorial of\", num, factorial(num))"
   ]
  }
 ],
 "metadata": {
  "kernelspec": {
   "display_name": "Python 3",
   "language": "python",
   "name": "python3"
  },
  "language_info": {
   "codemirror_mode": {
    "name": "ipython",
    "version": 3
   },
   "file_extension": ".py",
   "mimetype": "text/x-python",
   "name": "python",
   "nbconvert_exporter": "python",
   "pygments_lexer": "ipython3",
   "version": "3.12.6"
  }
 },
 "nbformat": 4,
 "nbformat_minor": 2
}
